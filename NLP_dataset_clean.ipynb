{
  "nbformat": 4,
  "nbformat_minor": 0,
  "metadata": {
    "colab": {
      "name": "NLP_dataset_clean.ipynb",
      "provenance": [],
      "collapsed_sections": [],
      "mount_file_id": "1QmJYWK51JjgYGTJEUyYJML-kteDWAo1C",
      "authorship_tag": "ABX9TyN/pJIpRYpzWTYfwcHyhXBo",
      "include_colab_link": true
    },
    "kernelspec": {
      "name": "python3",
      "display_name": "Python 3"
    },
    "language_info": {
      "name": "python"
    }
  },
  "cells": [
    {
      "cell_type": "markdown",
      "metadata": {
        "id": "view-in-github",
        "colab_type": "text"
      },
      "source": [
        "<a href=\"https://colab.research.google.com/github/Rakin96/my_code/blob/main/NLP_dataset_clean.ipynb\" target=\"_parent\"><img src=\"https://colab.research.google.com/assets/colab-badge.svg\" alt=\"Open In Colab\"/></a>"
      ]
    },
    {
      "cell_type": "code",
      "metadata": {
        "id": "ZqFc5gS83e2s"
      },
      "source": [
        "dataset_path= '/content/drive/MyDrive/Dataset/all_negative_3307.txt'\n",
        "root_path='/content/drive'\n",
        "destination_path= '/content/drive/MyDrive/Dataset/Preprocessed_all_negative.txt' #'/content/drive/MyDrive/Dataset/Preprocessed_all_positive.txt'\n",
        "des_excel_path='/content/drive/MyDrive/Dataset/Preprocessed_all_positive.xlsx'\n",
        "import pandas as pd"
      ],
      "execution_count": null,
      "outputs": []
    },
    {
      "cell_type": "code",
      "metadata": {
        "id": "x4BXigNe6Ewj"
      },
      "source": [
        "from google.colab import drive\n",
        "drive.mount(root_path, force_remount=True)"
      ],
      "execution_count": null,
      "outputs": []
    },
    {
      "cell_type": "code",
      "metadata": {
        "id": "AmxvWP68Krhd"
      },
      "source": [
        "import pandas as pd\n",
        "df = pd.DataFrame()"
      ],
      "execution_count": null,
      "outputs": []
    },
    {
      "cell_type": "code",
      "metadata": {
        "id": "QfuxmdTw6Way"
      },
      "source": [
        "def cleanDataset(src_path, des_path,des_excel_path):\n",
        "  sentences = []\n",
        "  # Using readline() \n",
        "  count = 0\n",
        "  with open(src_path,'r',encoding = 'utf-8') as f:\n",
        "    for line in f:\n",
        "      if len(line) >1 :      \n",
        "        count += 1\n",
        "        sentences.append(line)\n",
        "  \n",
        "  l = process(sentences)\n",
        "  sentim=[]\n",
        "  k=0\n",
        "  for i in range(0,len(l)-1):\n",
        "    sentim.append(k)\n",
        "    \n",
        " \n",
        "\n",
        "  #df.loc[\"Sentence\"]=pd.DataFrame(l)\n",
        "  df['Sentiment']=0\n",
        "  df['Sentence'] = pd.Series(l).values\n",
        "  df.to_excel('pre_processed_all_negative.xlsx')\n",
        "  #from google.colab import files\n",
        "  #files.download('df.xlsx')\n",
        "\n",
        "  # print(l[0:10])\n",
        "  f = open(des_path, \"w\")\n",
        "  #g= open(des_excel_path,\"w\")\n",
        " # g.append(df)\n",
        "  #g.close()\n",
        "  for s in l:\n",
        "    f.write(s+\"\\n\")\n",
        "  f.close()\n",
        "  \n"
      ],
      "execution_count": null,
      "outputs": []
    },
    {
      "cell_type": "code",
      "metadata": {
        "id": "v3v0CM435doI"
      },
      "source": [
        "import random\n",
        "def process(sentences):\n",
        "    \n",
        "  l=[]\n",
        "  numOfConsecutiveSentence = 2\n",
        "  minWordLimit = 3 #including ?,|,!\n",
        "  maxWordLimit = 15 #including ?,|,!\n",
        "  kk = 0\n",
        "  for text in sentences:\n",
        "    kk+=1\n",
        "    c = 0\n",
        "    s = \"\"\n",
        "    mergedSentecnes = \"\"\n",
        "    oneSetenceFound = False\n",
        "    numOfSentenceMerged = 0\n",
        "    for i  in  range(0,len(text)):\n",
        "      \n",
        "      # removes starting spaces\n",
        "      if len(s) == 0 and text[i] == ' ':\n",
        "        continue\n",
        "\n",
        "      # replace charcter with ' ' if character is not bangla character or number\n",
        "      if text[i] == '-' or text[i] == ':' or text[i] == '/' : \n",
        "        if len(s) > 1 and i < len(text)-1:\n",
        "          if isOkkhor(s[len(s)-1]) and isOkkhor(text[i+1]):\n",
        "            s += ' '\n",
        "      # if charcter is bangla character or number or ' '\n",
        "      elif isCorrect(text[i]):\n",
        "        if len(s) > 1 and text[i] == ' ': # remove consecutive space\n",
        "          if s[len(s)-1] == ' ': \n",
        "            continue\n",
        "        # end of a sentece \n",
        "        if text[i] == '।' or text[i] == '?' or text[i] == '!':\n",
        "          if len(s) == 0:\n",
        "            continue\n",
        "          c+=1\n",
        "          oneSetenceFound = True\n",
        "          # add space before ?,!,। \n",
        "          \n",
        "          if s[len(s)-1] != ' ':\n",
        "            s += ' ' \n",
        "\n",
        "        s += text[i]\n",
        "\n",
        "      if oneSetenceFound:\n",
        "        oneSetenceFound = False\n",
        "        wordCount= countW(s)\n",
        "        if wordCount > minWordLimit-1 and wordCount < maxWordLimit:\n",
        "          # add space after previous sentence\n",
        "          if numOfSentenceMerged > 0:\n",
        "            mergedSentecnes += (' ' + s)\n",
        "          else:\n",
        "            mergedSentecnes += s\n",
        "          s = \"\"\n",
        "          numOfSentenceMerged += 1\n",
        "          # if sentece violates word limit ignore all merged sentence\n",
        "        else:\n",
        "          mergedSentecnes = \"\"\n",
        "          s = \"\"\n",
        "          numOfSentenceMerged = 0\n",
        "      \n",
        "      if numOfSentenceMerged == numOfConsecutiveSentence:\n",
        "\n",
        "        c = 0\n",
        "        numOfSentenceMerged = 0 \n",
        "        mergedSentecnes = replaceNumber(mergedSentecnes)\n",
        "        l.append(mergedSentecnes)\n",
        "        mergedSentecnes = \"\"\n",
        "        s = \"\"\n",
        "  return l\n",
        "# print(l)\n",
        "# print(s)\n",
        "# random.seed(10)\n",
        "# random.shuffle(l) "
      ],
      "execution_count": null,
      "outputs": []
    },
    {
      "cell_type": "code",
      "metadata": {
        "colab": {
          "base_uri": "https://localhost:8080/"
        },
        "id": "qQ8rx7JTqo79",
        "outputId": "f6413c7f-220b-447c-9853-1cb5fd95d652"
      },
      "source": [
        "def countW(s):\n",
        "  c = 0\n",
        "  c1 = 0\n",
        "  first_sen = False\n",
        "  for i in range(0,len(s)):\n",
        "    if s[i] == ' ':\n",
        "      c+=1\n",
        "    \n",
        "    if s[i] == '।' or s[i] == '?' or s[i] == '!':\n",
        "      \n",
        "      if s[i-1] != ' ':\n",
        "        c+=1 \n",
        "\n",
        "  return (c)\n",
        " \n",
        "countW(\"এ সময় উভয় প্রতিষ্ঠানের ঊর্ধ্বতন কর্মকর্তারা উপস্থিত ছিলেন ।\")"
      ],
      "execution_count": null,
      "outputs": [
        {
          "output_type": "execute_result",
          "data": {
            "text/plain": [
              "8"
            ]
          },
          "metadata": {
            "tags": []
          },
          "execution_count": 6
        }
      ]
    },
    {
      "cell_type": "markdown",
      "metadata": {
        "id": "CYWaffDH-78W"
      },
      "source": [
        "ami  biri khai na. Bt amar porichito onek\n",
        "lokjn ei khay."
      ]
    },
    {
      "cell_type": "code",
      "metadata": {
        "id": "L6xyl9qL4wjM"
      },
      "source": [
        "def isCorrect(h):\n",
        "\n",
        "\n",
        "  dic_char = ['া',\n",
        " 'র',\n",
        "'ে',\n",
        " '্',\n",
        " 'ি',\n",
        " 'ন',\n",
        " 'ক', 'ব', 'ত',\n",
        " 'স',\n",
        "  'ল',\n",
        "  'ম',\n",
        "  'প',\n",
        "  'ু',\n",
        "  'দ',\n",
        "  'য়',\n",
        "  'ট',\n",
        "  'জ',\n",
        "  'য',\n",
        "  'ো',\n",
        "  'শ',\n",
        "  'গ',\n",
        "  'হ',\n",
        "  'ই',\n",
        " 'ী',\n",
        "  'চ',\n",
        "  'ভ',\n",
        " 'ছ',\n",
        "  'আ',\n",
        "  'ষ',\n",
        "  'অ',\n",
        "  'ধ',\n",
        "  'খ',\n",
        "  'ড',\n",
        "  'ও',\n",
        "  'ফ',\n",
        "  'ড়',\n",
        "  'উ',\n",
        "  'ণ',\n",
        "  'থ',\n",
        "  'ং',\n",
        "  'এ',\n",
        "  'ঁ',\n",
        "  'ূ',\n",
        "  'ঠ',\n",
        "  'ৃ',\n",
        "  'ঘ',\n",
        "  'ঞ',\n",
        "  'ঙ',\n",
        "  '়',\n",
        "  'ঝ',\n",
        "  'ৌ',\n",
        "  'ৎ',\n",
        "  'ৈ',\n",
        "  'ঢ',\n",
        "  'ঃ',\n",
        "  'ৗ',\n",
        "  'ঈ',\n",
        "  'ঐ',\n",
        "  'ঋ',\n",
        "  'ঢ়',\n",
        "  'ঊ',\n",
        "  'ঔ',\n",
        " '।',\n",
        " '?',\n",
        "  '!',\n",
        "  ' ', '২','০','১','৯','৫','৭','৩','৪','৮','৬',' ']\n",
        "  if h not in dic_char:\n",
        "    return False\n",
        "  else:\n",
        "    return True"
      ],
      "execution_count": null,
      "outputs": []
    },
    {
      "cell_type": "code",
      "metadata": {
        "id": "0Tziaj7o5GQ3"
      },
      "source": [
        "def isOkkhor(h):\n",
        "\n",
        "\n",
        "  dic_char = ['া',\n",
        " 'র',\n",
        "'ে',\n",
        " '্',\n",
        " 'ি',\n",
        " 'ন',\n",
        " 'ক', 'ব', 'ত',\n",
        " 'স',\n",
        "  'ল',\n",
        "  'ম',\n",
        "  'প',\n",
        "  'ু',\n",
        "  'দ',\n",
        "  'য়',\n",
        "  'ট',\n",
        "  'জ',\n",
        "  'য',\n",
        "  'ো',\n",
        "  'শ',\n",
        "  'গ',\n",
        "  'হ',\n",
        "  'ই',\n",
        " 'ী',\n",
        "  'চ',\n",
        "  'ভ',\n",
        " 'ছ',\n",
        "  'আ',\n",
        "  'ষ',\n",
        "  'অ',\n",
        "  'ধ',\n",
        "  'খ',\n",
        "  'ড',\n",
        "  'ও',\n",
        "  'ফ',\n",
        "  'ড়',\n",
        "  'উ',\n",
        "  'ণ',\n",
        "  'থ',\n",
        "  'ং',\n",
        "  'এ',\n",
        "  'ঁ',\n",
        "  'ূ',\n",
        "  'ঠ',\n",
        "  'ৃ',\n",
        "  'ঘ',\n",
        "  'ঞ',\n",
        "  'ঙ',\n",
        "  '়',\n",
        "  'ঝ',\n",
        "  'ৌ',\n",
        "  'ৎ',\n",
        "  'ৈ',\n",
        "  'ঢ',\n",
        "  'ঃ',\n",
        "  'ৗ',\n",
        "  'ঈ',\n",
        "  'ঐ',\n",
        "  'ঋ',\n",
        "  'ঢ়',\n",
        "  'ঊ',\n",
        "  'ঔ',]\n",
        "  if h not in dic_char:\n",
        "    return False\n",
        "  else:\n",
        "    return True"
      ],
      "execution_count": null,
      "outputs": []
    },
    {
      "cell_type": "code",
      "metadata": {
        "id": "57qRuoRa5GSr"
      },
      "source": [
        "def replaceNumber(s):\n",
        "   bangla_number = ['১', '২', '৩', '৪', '৫', '৬', '৭', '৮', '৯', '০']\n",
        "   newSentence = \"\"\n",
        "   flag = False\n",
        "   for i in range(0,len(s)):\n",
        "     if s[i] in bangla_number and not flag:\n",
        "       flag = True\n",
        "      #  print(newSentence)\n",
        "       if len(newSentence) == 0:\n",
        "        newSentence += \"N\"\n",
        "       elif newSentence[len(newSentence)-1] != ' ':\n",
        "         newSentence += \"N\"\n",
        "       else:\n",
        "         newSentence += \"N\"\n",
        "     elif s[i] not in bangla_number:\n",
        "       if i>0 and newSentence[len(newSentence)-1] == 'N' and s[i] != ' ':\n",
        "         newSentence += ' '\n",
        "       flag = False\n",
        "       newSentence += s[i]\n",
        "   return newSentence"
      ],
      "execution_count": null,
      "outputs": []
    },
    {
      "cell_type": "code",
      "metadata": {
        "id": "zaG-wZqun6d_"
      },
      "source": [
        "cleanDataset(src_path=dataset_path, des_path=destination_path, des_excel_path=des_excel_path)"
      ],
      "execution_count": null,
      "outputs": []
    },
    {
      "cell_type": "code",
      "metadata": {
        "id": "CiDzE-huN_BW"
      },
      "source": [
        ""
      ],
      "execution_count": null,
      "outputs": []
    }
  ]
}